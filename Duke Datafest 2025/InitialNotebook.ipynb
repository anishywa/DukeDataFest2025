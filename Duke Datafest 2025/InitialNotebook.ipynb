{
 "cells": [
  {
   "cell_type": "code",
   "execution_count": 1,
   "id": "d2dd9330-c8db-4907-85c3-f66af3a861c7",
   "metadata": {},
   "outputs": [],
   "source": [
    "import pandas as pd\n",
    "import numpy as np\n",
    "import matplotlib.pyplot as plt\n",
    "import seaborn as sns"
   ]
  },
  {
   "cell_type": "code",
   "execution_count": 4,
   "id": "cfd6176d-5e67-4cb9-abb8-e4e0a10c8121",
   "metadata": {},
   "outputs": [],
   "source": [
    "leasesData = pd.read_csv('Leases.csv')"
   ]
  },
  {
   "cell_type": "code",
   "execution_count": 5,
   "id": "7b5e0337-bc87-4387-8185-b20eff3717b7",
   "metadata": {},
   "outputs": [
    {
     "name": "stdout",
     "output_type": "stream",
     "text": [
      "<class 'pandas.core.frame.DataFrame'>\n",
      "RangeIndex: 194685 entries, 0 to 194684\n",
      "Data columns (total 35 columns):\n",
      " #   Column                          Non-Null Count   Dtype  \n",
      "---  ------                          --------------   -----  \n",
      " 0   year                            194685 non-null  int64  \n",
      " 1   quarter                         194685 non-null  object \n",
      " 2   monthsigned                     193822 non-null  float64\n",
      " 3   market                          194685 non-null  object \n",
      " 4   building_name                   157999 non-null  object \n",
      " 5   building_id                     194685 non-null  object \n",
      " 6   address                         194685 non-null  object \n",
      " 7   region                          194685 non-null  object \n",
      " 8   city                            194685 non-null  object \n",
      " 9   state                           194685 non-null  object \n",
      " 10  zip                             194684 non-null  float64\n",
      " 11  internal_submarket              194685 non-null  object \n",
      " 12  internal_class                  194676 non-null  object \n",
      " 13  leasedSF                        194685 non-null  float64\n",
      " 14  company_name                    37216 non-null   object \n",
      " 15  internal_industry               26401 non-null   object \n",
      " 16  transaction_type                194146 non-null  object \n",
      " 17  internal_market_cluster         75838 non-null   object \n",
      " 18  costarID                        194685 non-null  int64  \n",
      " 19  space_type                      187140 non-null  object \n",
      " 20  CBD_suburban                    194685 non-null  object \n",
      " 21  RBA                             145541 non-null  float64\n",
      " 22  available_space                 145541 non-null  float64\n",
      " 23  availability_proportion         145541 non-null  float64\n",
      " 24  internal_class_rent             145541 non-null  float64\n",
      " 25  overall_rent                    145541 non-null  float64\n",
      " 26  direct_available_space          121674 non-null  float64\n",
      " 27  direct_availability_proportion  121674 non-null  float64\n",
      " 28  direct_internal_class_rent      121674 non-null  float64\n",
      " 29  direct_overall_rent             121674 non-null  float64\n",
      " 30  sublet_available_space          121674 non-null  float64\n",
      " 31  sublet_availability_proportion  121674 non-null  float64\n",
      " 32  sublet_internal_class_rent      121674 non-null  float64\n",
      " 33  sublet_overall_rent             121674 non-null  float64\n",
      " 34  leasing                         145541 non-null  float64\n",
      "dtypes: float64(17), int64(2), object(16)\n",
      "memory usage: 52.0+ MB\n"
     ]
    },
    {
     "data": {
      "text/plain": [
       "year                                   0\n",
       "quarter                                0\n",
       "monthsigned                          863\n",
       "market                                 0\n",
       "building_name                      36686\n",
       "building_id                            0\n",
       "address                                0\n",
       "region                                 0\n",
       "city                                   0\n",
       "state                                  0\n",
       "zip                                    1\n",
       "internal_submarket                     0\n",
       "internal_class                         9\n",
       "leasedSF                               0\n",
       "company_name                      157469\n",
       "internal_industry                 168284\n",
       "transaction_type                     539\n",
       "internal_market_cluster           118847\n",
       "costarID                               0\n",
       "space_type                          7545\n",
       "CBD_suburban                           0\n",
       "RBA                                49144\n",
       "available_space                    49144\n",
       "availability_proportion            49144\n",
       "internal_class_rent                49144\n",
       "overall_rent                       49144\n",
       "direct_available_space             73011\n",
       "direct_availability_proportion     73011\n",
       "direct_internal_class_rent         73011\n",
       "direct_overall_rent                73011\n",
       "sublet_available_space             73011\n",
       "sublet_availability_proportion     73011\n",
       "sublet_internal_class_rent         73011\n",
       "sublet_overall_rent                73011\n",
       "leasing                            49144\n",
       "dtype: int64"
      ]
     },
     "execution_count": 5,
     "metadata": {},
     "output_type": "execute_result"
    }
   ],
   "source": [
    "leasesData.shape\n",
    "leasesData.head()\n",
    "leasesData.info()\n",
    "leasesData.describe()\n",
    "leasesData.isnull().sum()"
   ]
  },
  {
   "cell_type": "code",
   "execution_count": 6,
   "id": "f035ec7e-54d1-4d69-bd0d-217c5cd28689",
   "metadata": {},
   "outputs": [],
   "source": [
    "OccupancyData = pd.read_csv('Major_Market_Occupancy_Data-revised.csv')\n",
    "PriceAvailabilityData = pd.read_csv('Price_and_Availability_Data.csv')\n",
    "UnemploymentData = pd.read_csv('Unemployment.csv')"
   ]
  },
  {
   "cell_type": "code",
   "execution_count": 7,
   "id": "ad907e3d-47c0-4a39-b0a0-5f8f7a63739f",
   "metadata": {},
   "outputs": [],
   "source": [
    "leasesDataCleaned = leasesData.drop(columns=[\n",
    "    \"building_name\",\n",
    "    \"building_id\",\n",
    "    \"monthsigned\",\n",
    "    \"company_name\",\n",
    "    \"costarID\",\n",
    "    \"internal_market_cluster\",\n",
    "    \"direct_available_space\",\n",
    "    \"direct_internal_class_rent\",\n",
    "    \"direct_overall_rent\",\n",
    "    \"sublet_internal_class_rent\",\n",
    "    \"sublet_overall_rent\"\n",
    "])"
   ]
  },
  {
   "cell_type": "code",
   "execution_count": 16,
   "id": "b9872894-bc95-4e3a-888b-ea526adb812f",
   "metadata": {},
   "outputs": [
    {
     "name": "stdout",
     "output_type": "stream",
     "text": [
      "   year quarter state    leasing  overall_rent  Disaster_Affected\n",
      "0  2018      Q1    GA  1205126.0     24.345689                  0\n",
      "1  2018      Q1    GA  1205126.0     24.345689                  0\n",
      "2  2018      Q1    GA  1205126.0     24.345689                  0\n",
      "3  2018      Q1    GA   715742.0     24.345689                  0\n",
      "4  2018      Q1    GA  1205126.0     24.345689                  0\n"
     ]
    }
   ],
   "source": [
    "#loading data\n",
    "leases_df = pd.read_csv(\"Leases.csv\")\n",
    "disasters_df = pd.read_csv(\"US_Natural_Disasters_by_Quarter.csv\")\n",
    "\n",
    "# Extracting year and quarter from the dataset\n",
    "disasters_df[['quarter', 'year']] = disasters_df['Quarter'].str.extract(r'(Q\\d)\\s*(\\d{4})')\n",
    "disasters_df = disasters_df.dropna(subset=['year', 'quarter'])\n",
    "disasters_df['year'] = disasters_df['year'].astype(int)\n",
    "\n",
    "# Clean up data of damages, eliminating ranges\n",
    "valid_damages = disasters_df['Estimated Damages'].str.match(r'^\\d+(\\.\\d+)?$')\n",
    "disasters_df = disasters_df[valid_damages].copy()\n",
    "\n",
    "# Convert damages to float (billions to raw numbers)\n",
    "disasters_df['Estimated Damages'] = disasters_df['Estimated Damages'].astype(float) * 1e9\n",
    "\n",
    "# Split and explode affected states into separate rows\n",
    "disasters_df['States Affected'] = disasters_df['States Affected'].str.split(r',\\s*')\n",
    "disasters_exploded = disasters_df.explode('States Affected')\n",
    "disasters_exploded['States Affected'] = disasters_exploded['States Affected'].str.strip()\n",
    "\n",
    "# Merge lease data with other data\n",
    "merged_df = leases_df.merge(\n",
    "    disasters_exploded,\n",
    "    left_on=['year', 'quarter', 'state'],\n",
    "    right_on=['year', 'quarter', 'States Affected'],\n",
    "    how='left',\n",
    "    indicator=True\n",
    ")\n",
    "\n",
    "# add flag to lease data to show if affected or not\n",
    "merged_df['Disaster_Affected'] = np.where(merged_df['_merge'] == 'both', 1, 0)\n",
    "\n",
    "# Takes only data we want\n",
    "analysis_df = merged_df[['year', 'quarter', 'state', 'leasing', 'overall_rent', 'Disaster_Affected']]\n",
    "\n",
    "# Preview\n",
    "print(analysis_df.head())"
   ]
  },
  {
   "cell_type": "code",
   "execution_count": 15,
   "id": "a575fa55-8359-47f8-b22a-6b9908b317be",
   "metadata": {},
   "outputs": [],
   "source": [
    "# Mapping of full state names to abbreviations\n",
    "us_state_abbrev = {\n",
    "    'Alabama': 'AL', 'Alaska': 'AK', 'Arizona': 'AZ', 'Arkansas': 'AR',\n",
    "    'California': 'CA', 'Colorado': 'CO', 'Connecticut': 'CT', 'Delaware': 'DE',\n",
    "    'Florida': 'FL', 'Georgia': 'GA', 'Hawaii': 'HI', 'Idaho': 'ID', 'Illinois': 'IL',\n",
    "    'Indiana': 'IN', 'Iowa': 'IA', 'Kansas': 'KS', 'Kentucky': 'KY', 'Louisiana': 'LA',\n",
    "    'Maine': 'ME', 'Maryland': 'MD', 'Massachusetts': 'MA', 'Michigan': 'MI',\n",
    "    'Minnesota': 'MN', 'Mississippi': 'MS', 'Missouri': 'MO', 'Montana': 'MT',\n",
    "    'Nebraska': 'NE', 'Nevada': 'NV', 'New Hampshire': 'NH', 'New Jersey': 'NJ',\n",
    "    'New Mexico': 'NM', 'New York': 'NY', 'North Carolina': 'NC',\n",
    "    'North Dakota': 'ND', 'Ohio': 'OH', 'Oklahoma': 'OK', 'Oregon': 'OR',\n",
    "    'Pennsylvania': 'PA', 'Rhode Island': 'RI', 'South Carolina': 'SC',\n",
    "    'South Dakota': 'SD', 'Tennessee': 'TN', 'Texas': 'TX', 'Utah': 'UT',\n",
    "    'Vermont': 'VT', 'Virginia': 'VA', 'Washington': 'WA', 'West Virginia': 'WV',\n",
    "    'Wisconsin': 'WI', 'Wyoming': 'WY'\n",
    "}\n",
    "\n",
    "# Apply the mapping to disaster states\n",
    "disasters_exploded['States Affected'] = disasters_exploded['States Affected'].map(us_state_abbrev)"
   ]
  },
  {
   "cell_type": "code",
   "execution_count": 17,
   "id": "6036d9f0-aa3d-4506-b1ca-fbfea6e42b27",
   "metadata": {},
   "outputs": [
    {
     "name": "stdout",
     "output_type": "stream",
     "text": [
      "Average Leasing and Rent (0 = No Disaster, 1 = Disaster):\n",
      "\n",
      "                        leasing  overall_rent\n",
      "Disaster_Affected                            \n",
      "0                  1.327221e+06     39.730471\n"
     ]
    }
   ],
   "source": [
    "grouped_stats = analysis_df.groupby('Disaster_Affected')[['leasing', 'overall_rent']].mean()\n",
    "print(\"Average Leasing and Rent (0 = No Disaster, 1 = Disaster):\\n\")\n",
    "print(grouped_stats)"
   ]
  },
  {
   "cell_type": "code",
   "execution_count": 18,
   "id": "b8f6ce29-6408-4b2e-b6bf-152d9d81d986",
   "metadata": {},
   "outputs": [
    {
     "data": {
      "image/png": "[encoded data removed]",
      "text/plain": [
       "<Figure size 640x480 with 1 Axes>"
      ]
     },
     "metadata": {},
     "output_type": "display_data"
    },
    {
     "data": {
      "image/png": "[encoded data removed]",
      "text/plain": [
       "<Figure size 640x480 with 1 Axes>"
      ]
     },
     "metadata": {},
     "output_type": "display_data"
    }
   ],
   "source": [
    "import matplotlib.pyplot as plt\n",
    "\n",
    "# Boxplot for leasing\n",
    "analysis_df.boxplot(column='leasing', by='Disaster_Affected')\n",
    "plt.title('Leasing Volume by Disaster Impact')\n",
    "plt.suptitle('')\n",
    "plt.xlabel('Disaster Affected')\n",
    "plt.ylabel('Leasing')\n",
    "plt.show()\n",
    "\n",
    "# Boxplot for overall rent\n",
    "analysis_df.boxplot(column='overall_rent', by='Disaster_Affected')\n",
    "plt.title('Overall Rent by Disaster Impact')\n",
    "plt.suptitle('')\n",
    "plt.xlabel('Disaster Affected')\n",
    "plt.ylabel('Overall Rent')\n",
    "plt.show()"
   ]
  },
  {
   "cell_type": "code",
   "execution_count": 19,
   "id": "7f3d4884-f63b-4072-ad06-00ae5dfcb04f",
   "metadata": {},
   "outputs": [
    {
     "name": "stdout",
     "output_type": "stream",
     "text": [
      "Disaster-affected leases: 0\n",
      "Total leases: 194685\n",
      "Unique disaster-affected quarters: Empty DataFrame\n",
      "Columns: [year, quarter]\n",
      "Index: []\n"
     ]
    }
   ],
   "source": [
    "print(\"Disaster-affected leases:\", analysis_df['Disaster_Affected'].sum())\n",
    "print(\"Total leases:\", len(analysis_df))\n",
    "print(\"Unique disaster-affected quarters:\", analysis_df[analysis_df['Disaster_Affected'] == 1][['year', 'quarter']].drop_duplicates())"
   ]
  },
  {
   "cell_type": "code",
   "execution_count": null,
   "id": "0c855522-d109-4b4b-90a3-7005a6b1234e",
   "metadata": {},
   "outputs": [],
   "source": []
  }
 ],
 "metadata": {
  "kernelspec": {
   "display_name": "Python 3 (ipykernel)",
   "language": "python",
   "name": "python3"
  },
  "language_info": {
   "codemirror_mode": {
    "name": "ipython",
    "version": 3
   },
   "file_extension": ".py",
   "mimetype": "text/x-python",
   "name": "python",
   "nbconvert_exporter": "python",
   "pygments_lexer": "ipython3",
   "version": "3.12.4"
  }
 },
 "nbformat": 4,
 "nbformat_minor": 5
}
